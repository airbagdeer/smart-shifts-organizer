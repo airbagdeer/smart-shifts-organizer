{
 "cells": [
  {
   "cell_type": "code",
   "execution_count": 24,
   "metadata": {},
   "outputs": [],
   "source": [
    "import pandas as pd\n",
    "import json\n",
    "from datetime import date, timedelta"
   ]
  },
  {
   "cell_type": "code",
   "execution_count": 25,
   "metadata": {},
   "outputs": [],
   "source": [
    "config_file_path = r'.\\..\\smart-shifts-system\\config.json'\n",
    "f = open('config.json')\n",
    "data = json.load(f)\n",
    "\n",
    "starting_day = data['starting_day']\n",
    "starting_month = data['starting_month']\n",
    "ending_day = data['ending_day']\n",
    "ending_month = data['ending_month']\n",
    "starting_year = data['starting_year']\n",
    "ending_year = data['ending_year']"
   ]
  },
  {
   "cell_type": "code",
   "execution_count": 26,
   "metadata": {},
   "outputs": [],
   "source": [
    "#df = pd.read_csv(r'.\\..\\smart-shifts-system\\shifts-form.csv')\n",
    "df = pd.read_csv(r'.\\shifts-form.csv')\n",
    "df = df.drop(columns=['חותמת זמן'])"
   ]
  },
  {
   "cell_type": "code",
   "execution_count": 27,
   "metadata": {},
   "outputs": [],
   "source": [
    "def create_shift_dates_array(starting_day, ending_day, starting_month, ending_month, starting_year, ending_year):\n",
    "    start_date = date(starting_year, starting_month, starting_day) \n",
    "    end_date = date(ending_year, ending_month, ending_day)    # perhaps date.now()\n",
    "\n",
    "    shift_array = []\n",
    "    \n",
    "    delta = end_date - start_date   # returns timedelta\n",
    "\n",
    "    for i in range(delta.days + 1):\n",
    "        day = start_date + timedelta(days=i)\n",
    "        shift_array.append(f'{day.day}.{day.month} Day Shift')\n",
    "        shift_array.append(f'{day.day}.{day.month} Night Shift')\n",
    "        \n",
    "    return shift_array"
   ]
  },
  {
   "cell_type": "code",
   "execution_count": 28,
   "metadata": {},
   "outputs": [],
   "source": [
    "def init_shifts_ava_df(index, columns):\n",
    "\n",
    "    shifts_ava_df = pd.DataFrame(index = index, columns = columns)\n",
    "\n",
    "    for name in shifts_ava_df.columns:\n",
    "        for shift in shifts_ava_df.index:\n",
    "            shifts_ava_df.loc[shift, name] = name\n",
    "\n",
    "    return shifts_ava_df"
   ]
  },
  {
   "cell_type": "code",
   "execution_count": 29,
   "metadata": {},
   "outputs": [],
   "source": [
    "def create_unavailability_shifts_df(df, starting_day,ending_day,starting_month,ending_month, starting_year, ending_year):\n",
    "    index = create_shift_dates_array(starting_day,ending_day,starting_month,ending_month, starting_year, ending_year)\n",
    "    columns = df['Name']\n",
    "    \n",
    "    unava_shifts_df = pd.DataFrame(index = index, columns = columns)\n",
    "    ava_shifts_df = init_shifts_ava_df(index,columns)\n",
    "\n",
    "    for index, name in enumerate(columns):\n",
    "        unava_shifts_df.loc[:, name] = ''\n",
    "        if type(df.loc[index, 'Unavailable'])==type(' '):\n",
    "            for shift in df.loc[index, 'Unavailable'].split(';'):\n",
    "                unava_shifts_df.loc[shift, name] = 'x'\n",
    "                ava_shifts_df.loc[shift,name] = ''\n",
    "                \n",
    "    return unava_shifts_df, ava_shifts_df"
   ]
  },
  {
   "cell_type": "code",
   "execution_count": 30,
   "metadata": {},
   "outputs": [],
   "source": [
    "shifts_unava_df, shifts_ava_df = create_unavailability_shifts_df(df, starting_day,ending_day,starting_month,ending_month, starting_year, ending_year)\n",
    "\n",
    "shifts_unava_df.to_excel('shfits_unavailability.xlsx')\n",
    "shifts_ava_df.to_excel('shifts_availability.xlsx')"
   ]
  },
  {
   "cell_type": "code",
   "execution_count": 8,
   "metadata": {},
   "outputs": [
    {
     "name": "stdout",
     "output_type": "stream",
     "text": [
      "DONE\n"
     ]
    }
   ],
   "source": [
    "print(\"DONE\")"
   ]
  },
  {
   "cell_type": "code",
   "execution_count": 78,
   "metadata": {},
   "outputs": [
    {
     "name": "stderr",
     "output_type": "stream",
     "text": [
      "[NbConvertApp] Converting notebook convert_excel_to_better_excel.ipynb to script\n",
      "[NbConvertApp] Writing 2496 bytes to convert_excel_to_better_excel.py\n"
     ]
    }
   ],
   "source": [
    "!jupyter nbconvert --to script convert_excel_to_better_excel.ipynb"
   ]
  },
  {
   "cell_type": "code",
   "execution_count": null,
   "metadata": {},
   "outputs": [],
   "source": []
  }
 ],
 "metadata": {
  "kernelspec": {
   "display_name": "Python 3 (ipykernel)",
   "language": "python",
   "name": "python3"
  },
  "language_info": {
   "codemirror_mode": {
    "name": "ipython",
    "version": 3
   },
   "file_extension": ".py",
   "mimetype": "text/x-python",
   "name": "python",
   "nbconvert_exporter": "python",
   "pygments_lexer": "ipython3",
   "version": "3.10.9"
  }
 },
 "nbformat": 4,
 "nbformat_minor": 2
}
