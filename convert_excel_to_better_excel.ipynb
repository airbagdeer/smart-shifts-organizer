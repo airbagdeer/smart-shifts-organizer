{
 "cells": [
  {
   "cell_type": "code",
   "execution_count": 54,
   "metadata": {},
   "outputs": [],
   "source": [
    "import pandas as pd\n",
    "import json\n",
    "from datetime import date, timedelta"
   ]
  },
  {
   "cell_type": "code",
   "execution_count": 55,
   "metadata": {},
   "outputs": [],
   "source": [
    "config_file_path = r'.\\..\\smart-shifts-system\\config.json'\n",
    "f = open('config.json')\n",
    "data = json.load(f)\n",
    "\n",
    "starting_day = data['starting_day']\n",
    "starting_month = data['starting_month']\n",
    "ending_day = data['ending_day']\n",
    "ending_month = data['ending_month']"
   ]
  },
  {
   "cell_type": "code",
   "execution_count": 64,
   "metadata": {},
   "outputs": [],
   "source": [
    "df = pd.read_csv(r'.\\..\\smart-shifts-system\\shifts-form.csv')\n",
    "df = df.drop(columns=['חותמת זמן'])"
   ]
  },
  {
   "cell_type": "code",
   "execution_count": 57,
   "metadata": {},
   "outputs": [],
   "source": [
    "def create_shift_dates_array(starting_day, ending_day, starting_month, ending_month):\n",
    "    start_date = date(2024, starting_month, starting_day) \n",
    "    end_date = date(2024, ending_month, ending_day)    # perhaps date.now()\n",
    "\n",
    "    shift_array = []\n",
    "    \n",
    "    delta = end_date - start_date   # returns timedelta\n",
    "\n",
    "    for i in range(delta.days + 1):\n",
    "        day = start_date + timedelta(days=i)\n",
    "        shift_array.append(f'{day.day}.{day.month} Day Shift')\n",
    "        shift_array.append(f'{day.day}.{day.month} Night Shift')\n",
    "        \n",
    "    return shift_array"
   ]
  },
  {
   "cell_type": "code",
   "execution_count": 58,
   "metadata": {},
   "outputs": [],
   "source": [
    "def init_shifts_ava_df(index, columns):\n",
    "\n",
    "    shifts_ava_df = pd.DataFrame(index = index, columns = columns)\n",
    "\n",
    "    for name in shifts_ava_df.columns:\n",
    "        for shift in shifts_ava_df.index:\n",
    "            shifts_ava_df.loc[shift, name] = name\n",
    "\n",
    "    return shifts_ava_df"
   ]
  },
  {
   "cell_type": "code",
   "execution_count": 65,
   "metadata": {},
   "outputs": [
    {
     "data": {
      "text/html": [
       "<div>\n",
       "<style scoped>\n",
       "    .dataframe tbody tr th:only-of-type {\n",
       "        vertical-align: middle;\n",
       "    }\n",
       "\n",
       "    .dataframe tbody tr th {\n",
       "        vertical-align: top;\n",
       "    }\n",
       "\n",
       "    .dataframe thead th {\n",
       "        text-align: right;\n",
       "    }\n",
       "</style>\n",
       "<table border=\"1\" class=\"dataframe\">\n",
       "  <thead>\n",
       "    <tr style=\"text-align: right;\">\n",
       "      <th></th>\n",
       "      <th>Name</th>\n",
       "      <th>Unavailable</th>\n",
       "    </tr>\n",
       "  </thead>\n",
       "  <tbody>\n",
       "    <tr>\n",
       "      <th>0</th>\n",
       "      <td>אייל</td>\n",
       "      <td>14.7 Day Shift;14.7 Night Shift;15.7 Day Shift...</td>\n",
       "    </tr>\n",
       "    <tr>\n",
       "      <th>1</th>\n",
       "      <td>לורן</td>\n",
       "      <td>17.7 Day Shift;19.7 Day Shift;20.7 Night Shift...</td>\n",
       "    </tr>\n",
       "    <tr>\n",
       "      <th>2</th>\n",
       "      <td>רוי</td>\n",
       "      <td>15.7 Day Shift;15.7 Night Shift;16.7 Day Shift...</td>\n",
       "    </tr>\n",
       "    <tr>\n",
       "      <th>3</th>\n",
       "      <td>עמית</td>\n",
       "      <td>16.7 Night Shift;17.7 Day Shift;18.7 Night Shi...</td>\n",
       "    </tr>\n",
       "    <tr>\n",
       "      <th>4</th>\n",
       "      <td>זמר</td>\n",
       "      <td>NaN</td>\n",
       "    </tr>\n",
       "    <tr>\n",
       "      <th>5</th>\n",
       "      <td>נוייה</td>\n",
       "      <td>14.7 Day Shift;14.7 Night Shift;15.7 Day Shift...</td>\n",
       "    </tr>\n",
       "    <tr>\n",
       "      <th>6</th>\n",
       "      <td>אליה</td>\n",
       "      <td>14.7 Night Shift;24.7 Day Shift;24.7 Night Shi...</td>\n",
       "    </tr>\n",
       "    <tr>\n",
       "      <th>7</th>\n",
       "      <td>אגם</td>\n",
       "      <td>25.7 Night Shift;26.7 Day Shift;26.7 Night Shi...</td>\n",
       "    </tr>\n",
       "    <tr>\n",
       "      <th>8</th>\n",
       "      <td>רועי</td>\n",
       "      <td>24.7 Day Shift;24.7 Night Shift;25.7 Day Shift...</td>\n",
       "    </tr>\n",
       "  </tbody>\n",
       "</table>\n",
       "</div>"
      ],
      "text/plain": [
       "    Name                                        Unavailable\n",
       "0   אייל  14.7 Day Shift;14.7 Night Shift;15.7 Day Shift...\n",
       "1   לורן  17.7 Day Shift;19.7 Day Shift;20.7 Night Shift...\n",
       "2    רוי  15.7 Day Shift;15.7 Night Shift;16.7 Day Shift...\n",
       "3   עמית  16.7 Night Shift;17.7 Day Shift;18.7 Night Shi...\n",
       "4    זמר                                                NaN\n",
       "5  נוייה  14.7 Day Shift;14.7 Night Shift;15.7 Day Shift...\n",
       "6   אליה  14.7 Night Shift;24.7 Day Shift;24.7 Night Shi...\n",
       "7    אגם  25.7 Night Shift;26.7 Day Shift;26.7 Night Shi...\n",
       "8   רועי  24.7 Day Shift;24.7 Night Shift;25.7 Day Shift..."
      ]
     },
     "execution_count": 65,
     "metadata": {},
     "output_type": "execute_result"
    }
   ],
   "source": [
    "df"
   ]
  },
  {
   "cell_type": "code",
   "execution_count": 75,
   "metadata": {},
   "outputs": [],
   "source": [
    "def create_unavailability_shifts_df(df, starting_day,ending_day,starting_month,ending_month):\n",
    "    index = create_shift_dates_array(starting_day,ending_day,starting_month,ending_month)\n",
    "    columns = df['Name']\n",
    "    \n",
    "    unava_shifts_df = pd.DataFrame(index = index, columns = columns)\n",
    "    ava_shifts_df = init_shifts_ava_df(index,columns)\n",
    "\n",
    "    for index, name in enumerate(columns):\n",
    "        unava_shifts_df.loc[:, name] = ''\n",
    "        if type(df.loc[index, 'Unavailable'])==type(' '):\n",
    "            for shift in df.loc[index, 'Unavailable'].split(';'):\n",
    "                unava_shifts_df.loc[shift, name] = 'x'\n",
    "                ava_shifts_df.loc[shift,name] = ''\n",
    "                \n",
    "    return unava_shifts_df, ava_shifts_df"
   ]
  },
  {
   "cell_type": "code",
   "execution_count": 76,
   "metadata": {},
   "outputs": [],
   "source": [
    "shifts_unava_df, shifts_ava_df = create_unavailability_shifts_df(df, starting_day,ending_day,starting_month,ending_month)\n",
    "\n",
    "shifts_unava_df.to_excel('shfits_unavailability.xlsx')\n",
    "shifts_ava_df.to_excel('shifts_availability.xlsx')"
   ]
  },
  {
   "cell_type": "code",
   "execution_count": 73,
   "metadata": {},
   "outputs": [
    {
     "name": "stdout",
     "output_type": "stream",
     "text": [
      "DONE\n"
     ]
    }
   ],
   "source": [
    "print(\"DONE\")"
   ]
  },
  {
   "cell_type": "code",
   "execution_count": 78,
   "metadata": {},
   "outputs": [
    {
     "name": "stderr",
     "output_type": "stream",
     "text": [
      "[NbConvertApp] Converting notebook convert_excel_to_better_excel.ipynb to script\n",
      "[NbConvertApp] Writing 2496 bytes to convert_excel_to_better_excel.py\n"
     ]
    }
   ],
   "source": [
    "!jupyter nbconvert --to script convert_excel_to_better_excel.ipynb"
   ]
  },
  {
   "cell_type": "code",
   "execution_count": null,
   "metadata": {},
   "outputs": [],
   "source": []
  }
 ],
 "metadata": {
  "kernelspec": {
   "display_name": "Python 3",
   "language": "python",
   "name": "python3"
  },
  "language_info": {
   "codemirror_mode": {
    "name": "ipython",
    "version": 3
   },
   "file_extension": ".py",
   "mimetype": "text/x-python",
   "name": "python",
   "nbconvert_exporter": "python",
   "pygments_lexer": "ipython3",
   "version": "3.7.3"
  }
 },
 "nbformat": 4,
 "nbformat_minor": 2
}
